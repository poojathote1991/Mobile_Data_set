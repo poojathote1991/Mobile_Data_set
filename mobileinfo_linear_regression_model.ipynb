{
 "cells": [
  {
   "cell_type": "code",
   "execution_count": 1,
   "id": "16b65184",
   "metadata": {},
   "outputs": [],
   "source": [
    "import pandas as pd\n",
    "import numpy as np\n",
    "import seaborn as sns\n",
    "import matplotlib.pyplot as plt\n",
    "import statsmodels.api as sm\n",
    "from statsmodels.stats.outliers_influence import variance_inflation_factor\n",
    "from sklearn.model_selection import train_test_split\n",
    "from sklearn.linear_model import LinearRegression\n",
    "from sklearn.metrics import mean_absolute_error,mean_squared_error,r2_score\n",
    "from scipy.stats import shapiro,kstest,normaltest,skew\n",
    "import pickle"
   ]
  },
  {
   "cell_type": "markdown",
   "id": "e7eb5a6c",
   "metadata": {},
   "source": [
    "# 1.problem statement"
   ]
  },
  {
   "cell_type": "markdown",
   "id": "ea2cbcaa",
   "metadata": {},
   "source": [
    "problem statment : to predict the mobile price by using given information in csv file\n",
    "    "
   ]
  },
  {
   "cell_type": "markdown",
   "id": "17484fdf",
   "metadata": {},
   "source": [
    "# 2.Data Gathering"
   ]
  },
  {
   "cell_type": "code",
   "execution_count": 2,
   "id": "97b5832a",
   "metadata": {},
   "outputs": [
    {
     "data": {
      "text/html": [
       "<div>\n",
       "<style scoped>\n",
       "    .dataframe tbody tr th:only-of-type {\n",
       "        vertical-align: middle;\n",
       "    }\n",
       "\n",
       "    .dataframe tbody tr th {\n",
       "        vertical-align: top;\n",
       "    }\n",
       "\n",
       "    .dataframe thead th {\n",
       "        text-align: right;\n",
       "    }\n",
       "</style>\n",
       "<table border=\"1\" class=\"dataframe\">\n",
       "  <thead>\n",
       "    <tr style=\"text-align: right;\">\n",
       "      <th></th>\n",
       "      <th>Product_id</th>\n",
       "      <th>Price</th>\n",
       "      <th>Sale</th>\n",
       "      <th>weight</th>\n",
       "      <th>resoloution</th>\n",
       "      <th>ppi</th>\n",
       "      <th>cpu core</th>\n",
       "      <th>cpu freq</th>\n",
       "      <th>internal mem</th>\n",
       "      <th>ram</th>\n",
       "      <th>RearCam</th>\n",
       "      <th>Front_Cam</th>\n",
       "      <th>battery</th>\n",
       "      <th>thickness</th>\n",
       "    </tr>\n",
       "  </thead>\n",
       "  <tbody>\n",
       "    <tr>\n",
       "      <th>0</th>\n",
       "      <td>203</td>\n",
       "      <td>2357</td>\n",
       "      <td>10</td>\n",
       "      <td>135.0</td>\n",
       "      <td>5.20</td>\n",
       "      <td>424</td>\n",
       "      <td>8</td>\n",
       "      <td>1.350</td>\n",
       "      <td>16.0</td>\n",
       "      <td>3.000</td>\n",
       "      <td>13.00</td>\n",
       "      <td>8.0</td>\n",
       "      <td>2610</td>\n",
       "      <td>7.4</td>\n",
       "    </tr>\n",
       "    <tr>\n",
       "      <th>1</th>\n",
       "      <td>880</td>\n",
       "      <td>1749</td>\n",
       "      <td>10</td>\n",
       "      <td>125.0</td>\n",
       "      <td>4.00</td>\n",
       "      <td>233</td>\n",
       "      <td>2</td>\n",
       "      <td>1.300</td>\n",
       "      <td>4.0</td>\n",
       "      <td>1.000</td>\n",
       "      <td>3.15</td>\n",
       "      <td>0.0</td>\n",
       "      <td>1700</td>\n",
       "      <td>9.9</td>\n",
       "    </tr>\n",
       "    <tr>\n",
       "      <th>2</th>\n",
       "      <td>40</td>\n",
       "      <td>1916</td>\n",
       "      <td>10</td>\n",
       "      <td>110.0</td>\n",
       "      <td>4.70</td>\n",
       "      <td>312</td>\n",
       "      <td>4</td>\n",
       "      <td>1.200</td>\n",
       "      <td>8.0</td>\n",
       "      <td>1.500</td>\n",
       "      <td>13.00</td>\n",
       "      <td>5.0</td>\n",
       "      <td>2000</td>\n",
       "      <td>7.6</td>\n",
       "    </tr>\n",
       "    <tr>\n",
       "      <th>3</th>\n",
       "      <td>99</td>\n",
       "      <td>1315</td>\n",
       "      <td>11</td>\n",
       "      <td>118.5</td>\n",
       "      <td>4.00</td>\n",
       "      <td>233</td>\n",
       "      <td>2</td>\n",
       "      <td>1.300</td>\n",
       "      <td>4.0</td>\n",
       "      <td>0.512</td>\n",
       "      <td>3.15</td>\n",
       "      <td>0.0</td>\n",
       "      <td>1400</td>\n",
       "      <td>11.0</td>\n",
       "    </tr>\n",
       "    <tr>\n",
       "      <th>4</th>\n",
       "      <td>880</td>\n",
       "      <td>1749</td>\n",
       "      <td>11</td>\n",
       "      <td>125.0</td>\n",
       "      <td>4.00</td>\n",
       "      <td>233</td>\n",
       "      <td>2</td>\n",
       "      <td>1.300</td>\n",
       "      <td>4.0</td>\n",
       "      <td>1.000</td>\n",
       "      <td>3.15</td>\n",
       "      <td>0.0</td>\n",
       "      <td>1700</td>\n",
       "      <td>9.9</td>\n",
       "    </tr>\n",
       "    <tr>\n",
       "      <th>...</th>\n",
       "      <td>...</td>\n",
       "      <td>...</td>\n",
       "      <td>...</td>\n",
       "      <td>...</td>\n",
       "      <td>...</td>\n",
       "      <td>...</td>\n",
       "      <td>...</td>\n",
       "      <td>...</td>\n",
       "      <td>...</td>\n",
       "      <td>...</td>\n",
       "      <td>...</td>\n",
       "      <td>...</td>\n",
       "      <td>...</td>\n",
       "      <td>...</td>\n",
       "    </tr>\n",
       "    <tr>\n",
       "      <th>156</th>\n",
       "      <td>1206</td>\n",
       "      <td>3551</td>\n",
       "      <td>4638</td>\n",
       "      <td>178.0</td>\n",
       "      <td>5.46</td>\n",
       "      <td>538</td>\n",
       "      <td>4</td>\n",
       "      <td>1.875</td>\n",
       "      <td>128.0</td>\n",
       "      <td>6.000</td>\n",
       "      <td>12.00</td>\n",
       "      <td>16.0</td>\n",
       "      <td>4080</td>\n",
       "      <td>8.4</td>\n",
       "    </tr>\n",
       "    <tr>\n",
       "      <th>157</th>\n",
       "      <td>1296</td>\n",
       "      <td>3211</td>\n",
       "      <td>8016</td>\n",
       "      <td>170.0</td>\n",
       "      <td>5.50</td>\n",
       "      <td>534</td>\n",
       "      <td>4</td>\n",
       "      <td>1.975</td>\n",
       "      <td>128.0</td>\n",
       "      <td>6.000</td>\n",
       "      <td>20.00</td>\n",
       "      <td>8.0</td>\n",
       "      <td>3400</td>\n",
       "      <td>7.9</td>\n",
       "    </tr>\n",
       "    <tr>\n",
       "      <th>158</th>\n",
       "      <td>856</td>\n",
       "      <td>3260</td>\n",
       "      <td>8809</td>\n",
       "      <td>150.0</td>\n",
       "      <td>5.50</td>\n",
       "      <td>401</td>\n",
       "      <td>8</td>\n",
       "      <td>2.200</td>\n",
       "      <td>64.0</td>\n",
       "      <td>4.000</td>\n",
       "      <td>20.00</td>\n",
       "      <td>20.0</td>\n",
       "      <td>3000</td>\n",
       "      <td>6.8</td>\n",
       "    </tr>\n",
       "    <tr>\n",
       "      <th>159</th>\n",
       "      <td>1296</td>\n",
       "      <td>3211</td>\n",
       "      <td>8946</td>\n",
       "      <td>170.0</td>\n",
       "      <td>5.50</td>\n",
       "      <td>534</td>\n",
       "      <td>4</td>\n",
       "      <td>1.975</td>\n",
       "      <td>128.0</td>\n",
       "      <td>6.000</td>\n",
       "      <td>20.00</td>\n",
       "      <td>8.0</td>\n",
       "      <td>3400</td>\n",
       "      <td>7.9</td>\n",
       "    </tr>\n",
       "    <tr>\n",
       "      <th>160</th>\n",
       "      <td>1131</td>\n",
       "      <td>2536</td>\n",
       "      <td>9807</td>\n",
       "      <td>202.0</td>\n",
       "      <td>6.00</td>\n",
       "      <td>367</td>\n",
       "      <td>8</td>\n",
       "      <td>1.500</td>\n",
       "      <td>16.0</td>\n",
       "      <td>3.000</td>\n",
       "      <td>21.50</td>\n",
       "      <td>16.0</td>\n",
       "      <td>2700</td>\n",
       "      <td>8.4</td>\n",
       "    </tr>\n",
       "  </tbody>\n",
       "</table>\n",
       "<p>161 rows × 14 columns</p>\n",
       "</div>"
      ],
      "text/plain": [
       "     Product_id  Price  Sale  weight  resoloution  ppi  cpu core  cpu freq  \\\n",
       "0           203   2357    10   135.0         5.20  424         8     1.350   \n",
       "1           880   1749    10   125.0         4.00  233         2     1.300   \n",
       "2            40   1916    10   110.0         4.70  312         4     1.200   \n",
       "3            99   1315    11   118.5         4.00  233         2     1.300   \n",
       "4           880   1749    11   125.0         4.00  233         2     1.300   \n",
       "..          ...    ...   ...     ...          ...  ...       ...       ...   \n",
       "156        1206   3551  4638   178.0         5.46  538         4     1.875   \n",
       "157        1296   3211  8016   170.0         5.50  534         4     1.975   \n",
       "158         856   3260  8809   150.0         5.50  401         8     2.200   \n",
       "159        1296   3211  8946   170.0         5.50  534         4     1.975   \n",
       "160        1131   2536  9807   202.0         6.00  367         8     1.500   \n",
       "\n",
       "     internal mem    ram  RearCam  Front_Cam  battery  thickness  \n",
       "0            16.0  3.000    13.00        8.0     2610        7.4  \n",
       "1             4.0  1.000     3.15        0.0     1700        9.9  \n",
       "2             8.0  1.500    13.00        5.0     2000        7.6  \n",
       "3             4.0  0.512     3.15        0.0     1400       11.0  \n",
       "4             4.0  1.000     3.15        0.0     1700        9.9  \n",
       "..            ...    ...      ...        ...      ...        ...  \n",
       "156         128.0  6.000    12.00       16.0     4080        8.4  \n",
       "157         128.0  6.000    20.00        8.0     3400        7.9  \n",
       "158          64.0  4.000    20.00       20.0     3000        6.8  \n",
       "159         128.0  6.000    20.00        8.0     3400        7.9  \n",
       "160          16.0  3.000    21.50       16.0     2700        8.4  \n",
       "\n",
       "[161 rows x 14 columns]"
      ]
     },
     "execution_count": 2,
     "metadata": {},
     "output_type": "execute_result"
    }
   ],
   "source": [
    "df=pd.read_csv(\"mobileinfo.csv\")\n",
    "df"
   ]
  },
  {
   "cell_type": "markdown",
   "id": "520e235c",
   "metadata": {},
   "source": [
    "# 3.EDA and feature engineering"
   ]
  },
  {
   "cell_type": "markdown",
   "id": "9ce0f0ac",
   "metadata": {},
   "source": [
    "### 3.1 Product_id"
   ]
  },
  {
   "cell_type": "code",
   "execution_count": 3,
   "id": "b486599f",
   "metadata": {},
   "outputs": [
    {
     "data": {
      "text/plain": [
       "66      2\n",
       "1062    2\n",
       "832     2\n",
       "133     2\n",
       "827     2\n",
       "       ..\n",
       "203     1\n",
       "10      1\n",
       "622     1\n",
       "40      1\n",
       "856     1\n",
       "Name: Product_id, Length: 83, dtype: int64"
      ]
     },
     "execution_count": 3,
     "metadata": {},
     "output_type": "execute_result"
    }
   ],
   "source": [
    "#df.info()\n",
    "df['Product_id'].value_counts()"
   ]
  },
  {
   "cell_type": "code",
   "execution_count": 4,
   "id": "6925b730",
   "metadata": {},
   "outputs": [],
   "source": [
    "df.drop(\"Product_id\",axis=1,inplace=True)"
   ]
  },
  {
   "cell_type": "markdown",
   "id": "2f16cef9",
   "metadata": {},
   "source": [
    "### 3.2 Price "
   ]
  },
  {
   "cell_type": "code",
   "execution_count": 5,
   "id": "2226e443",
   "metadata": {},
   "outputs": [
    {
     "data": {
      "text/plain": [
       "0"
      ]
     },
     "execution_count": 5,
     "metadata": {},
     "output_type": "execute_result"
    }
   ],
   "source": [
    "#df.info()\n",
    "df['Price'].isna().sum()"
   ]
  },
  {
   "cell_type": "markdown",
   "id": "00509c51",
   "metadata": {},
   "source": [
    "### 3.3 Sale "
   ]
  },
  {
   "cell_type": "code",
   "execution_count": 6,
   "id": "c6342b0c",
   "metadata": {},
   "outputs": [
    {
     "data": {
      "text/plain": [
       "0"
      ]
     },
     "execution_count": 6,
     "metadata": {},
     "output_type": "execute_result"
    }
   ],
   "source": [
    "#df.info()\n",
    "df['Sale'].isna().sum()"
   ]
  },
  {
   "cell_type": "markdown",
   "id": "f5a38a03",
   "metadata": {},
   "source": [
    "### 3.4 weight "
   ]
  },
  {
   "cell_type": "code",
   "execution_count": 7,
   "id": "b97b806b",
   "metadata": {},
   "outputs": [
    {
     "data": {
      "text/plain": [
       "0"
      ]
     },
     "execution_count": 7,
     "metadata": {},
     "output_type": "execute_result"
    }
   ],
   "source": [
    "#df.info()\n",
    "df['weight'].isna().sum()"
   ]
  },
  {
   "cell_type": "markdown",
   "id": "5ac8f3c8",
   "metadata": {},
   "source": [
    "### 3.5  resoloution"
   ]
  },
  {
   "cell_type": "code",
   "execution_count": 8,
   "id": "f766ac04",
   "metadata": {},
   "outputs": [
    {
     "data": {
      "text/plain": [
       "0"
      ]
     },
     "execution_count": 8,
     "metadata": {},
     "output_type": "execute_result"
    }
   ],
   "source": [
    "#df.info()\n",
    "df['resoloution'].isnull().sum()"
   ]
  },
  {
   "cell_type": "markdown",
   "id": "3004a9e0",
   "metadata": {},
   "source": [
    "### 3.6  ppi "
   ]
  },
  {
   "cell_type": "code",
   "execution_count": 9,
   "id": "63e6b70b",
   "metadata": {},
   "outputs": [
    {
     "name": "stdout",
     "output_type": "stream",
     "text": [
      "<class 'pandas.core.frame.DataFrame'>\n",
      "RangeIndex: 161 entries, 0 to 160\n",
      "Data columns (total 13 columns):\n",
      " #   Column        Non-Null Count  Dtype  \n",
      "---  ------        --------------  -----  \n",
      " 0   Price         161 non-null    int64  \n",
      " 1   Sale          161 non-null    int64  \n",
      " 2   weight        161 non-null    float64\n",
      " 3   resoloution   161 non-null    float64\n",
      " 4   ppi           161 non-null    int64  \n",
      " 5   cpu core      161 non-null    int64  \n",
      " 6   cpu freq      161 non-null    float64\n",
      " 7   internal mem  161 non-null    float64\n",
      " 8   ram           161 non-null    float64\n",
      " 9   RearCam       161 non-null    float64\n",
      " 10  Front_Cam     161 non-null    float64\n",
      " 11  battery       161 non-null    int64  \n",
      " 12  thickness     161 non-null    float64\n",
      "dtypes: float64(8), int64(5)\n",
      "memory usage: 16.5 KB\n"
     ]
    }
   ],
   "source": [
    "df.info()"
   ]
  },
  {
   "cell_type": "code",
   "execution_count": null,
   "id": "cbe9c670",
   "metadata": {},
   "outputs": [],
   "source": []
  },
  {
   "cell_type": "markdown",
   "id": "6e372c49",
   "metadata": {},
   "source": [
    "### 3.7cpu core"
   ]
  },
  {
   "cell_type": "code",
   "execution_count": 10,
   "id": "453adfdf",
   "metadata": {},
   "outputs": [],
   "source": [
    "#df.info()"
   ]
  },
  {
   "cell_type": "markdown",
   "id": "a4f2eba3",
   "metadata": {},
   "source": [
    "### 3.8 cpu freq "
   ]
  },
  {
   "cell_type": "code",
   "execution_count": 11,
   "id": "ff751d68",
   "metadata": {},
   "outputs": [
    {
     "data": {
      "text/plain": [
       "0"
      ]
     },
     "execution_count": 11,
     "metadata": {},
     "output_type": "execute_result"
    }
   ],
   "source": [
    "#df.info()\n",
    "df['cpu freq'].isnull().sum()"
   ]
  },
  {
   "cell_type": "markdown",
   "id": "e1ff563e",
   "metadata": {},
   "source": [
    "### 3.9 internal mem"
   ]
  },
  {
   "cell_type": "code",
   "execution_count": 12,
   "id": "58f6ca36",
   "metadata": {},
   "outputs": [
    {
     "data": {
      "text/plain": [
       "0"
      ]
     },
     "execution_count": 12,
     "metadata": {},
     "output_type": "execute_result"
    }
   ],
   "source": [
    "#df.info()\n",
    "df['internal mem'].isna().sum()"
   ]
  },
  {
   "cell_type": "markdown",
   "id": "1598dc93",
   "metadata": {},
   "source": [
    "### 3.10 ram "
   ]
  },
  {
   "cell_type": "code",
   "execution_count": 13,
   "id": "22364797",
   "metadata": {},
   "outputs": [
    {
     "data": {
      "text/plain": [
       "0"
      ]
     },
     "execution_count": 13,
     "metadata": {},
     "output_type": "execute_result"
    }
   ],
   "source": [
    "#df.info()\n",
    "df['ram'].isna().sum()"
   ]
  },
  {
   "cell_type": "markdown",
   "id": "22fbcd91",
   "metadata": {},
   "source": [
    "### 3.11  RearCam "
   ]
  },
  {
   "cell_type": "code",
   "execution_count": 14,
   "id": "4af95f07",
   "metadata": {},
   "outputs": [
    {
     "data": {
      "text/plain": [
       "0"
      ]
     },
     "execution_count": 14,
     "metadata": {},
     "output_type": "execute_result"
    }
   ],
   "source": [
    "#df.info()\n",
    "df['RearCam'].isna().sum()"
   ]
  },
  {
   "cell_type": "markdown",
   "id": "20b9fcf8",
   "metadata": {},
   "source": [
    "### 3.12 Front_Cam"
   ]
  },
  {
   "cell_type": "code",
   "execution_count": 15,
   "id": "06a08d92",
   "metadata": {},
   "outputs": [
    {
     "data": {
      "text/plain": [
       "0"
      ]
     },
     "execution_count": 15,
     "metadata": {},
     "output_type": "execute_result"
    }
   ],
   "source": [
    "#df.info()\n",
    "df['Front_Cam'].isna().sum()"
   ]
  },
  {
   "cell_type": "markdown",
   "id": "d1de4c95",
   "metadata": {},
   "source": [
    "### 3.13 battery "
   ]
  },
  {
   "cell_type": "code",
   "execution_count": 16,
   "id": "67e2176b",
   "metadata": {},
   "outputs": [],
   "source": [
    "#df.info()"
   ]
  },
  {
   "cell_type": "markdown",
   "id": "baea8ae6",
   "metadata": {},
   "source": [
    "### 3.14 thickness"
   ]
  },
  {
   "cell_type": "code",
   "execution_count": 17,
   "id": "25907585",
   "metadata": {},
   "outputs": [
    {
     "data": {
      "text/plain": [
       "0"
      ]
     },
     "execution_count": 17,
     "metadata": {},
     "output_type": "execute_result"
    }
   ],
   "source": [
    "#df.info()\n",
    "df['thickness'].isna().sum()"
   ]
  },
  {
   "cell_type": "code",
   "execution_count": 18,
   "id": "88ab22eb",
   "metadata": {},
   "outputs": [
    {
     "data": {
      "text/plain": [
       "False"
      ]
     },
     "execution_count": 18,
     "metadata": {},
     "output_type": "execute_result"
    }
   ],
   "source": [
    "df.empty"
   ]
  },
  {
   "cell_type": "markdown",
   "id": "5fd5c946",
   "metadata": {},
   "source": [
    "## feature engineering"
   ]
  },
  {
   "cell_type": "markdown",
   "id": "b645bb6c",
   "metadata": {},
   "source": [
    "impute the missing value\n",
    "outliers\n",
    "encoding \n",
    "1.one hot encoding \n",
    "2.label encoding\n",
    "transformation"
   ]
  },
  {
   "cell_type": "markdown",
   "id": "c55e4601",
   "metadata": {},
   "source": [
    "# 4 Feature selection"
   ]
  },
  {
   "cell_type": "markdown",
   "id": "faf7fe54",
   "metadata": {},
   "source": [
    "1.filter method\n",
    "in this assumption for linear regreesion\n",
    "1.linearity(before training the model)\n",
    "2.no multicolinearity(before training the model)\n",
    "3.normality of residuals(after training the model)\n",
    "4.homoscadasticity(after training the model)\n",
    "\n",
    "2.wrapper method\n",
    "1.forward feature selection \n",
    "2.backwardfeature selection\n",
    "3.RFE\n",
    "\n",
    "3.embbeded method\n",
    "regularization"
   ]
  },
  {
   "cell_type": "markdown",
   "id": "f97cc05d",
   "metadata": {},
   "source": [
    "### 4.1 linearity"
   ]
  },
  {
   "cell_type": "code",
   "execution_count": 19,
   "id": "93ce5617",
   "metadata": {},
   "outputs": [
    {
     "data": {
      "text/html": [
       "<div>\n",
       "<style scoped>\n",
       "    .dataframe tbody tr th:only-of-type {\n",
       "        vertical-align: middle;\n",
       "    }\n",
       "\n",
       "    .dataframe tbody tr th {\n",
       "        vertical-align: top;\n",
       "    }\n",
       "\n",
       "    .dataframe thead th {\n",
       "        text-align: right;\n",
       "    }\n",
       "</style>\n",
       "<table border=\"1\" class=\"dataframe\">\n",
       "  <thead>\n",
       "    <tr style=\"text-align: right;\">\n",
       "      <th></th>\n",
       "      <th>Price</th>\n",
       "      <th>Sale</th>\n",
       "      <th>weight</th>\n",
       "      <th>resoloution</th>\n",
       "      <th>ppi</th>\n",
       "      <th>cpu core</th>\n",
       "      <th>cpu freq</th>\n",
       "      <th>internal mem</th>\n",
       "      <th>ram</th>\n",
       "      <th>RearCam</th>\n",
       "      <th>Front_Cam</th>\n",
       "      <th>battery</th>\n",
       "      <th>thickness</th>\n",
       "    </tr>\n",
       "  </thead>\n",
       "  <tbody>\n",
       "    <tr>\n",
       "      <th>Price</th>\n",
       "      <td>1.000000</td>\n",
       "      <td>0.273263</td>\n",
       "      <td>0.144555</td>\n",
       "      <td>0.404010</td>\n",
       "      <td>0.817614</td>\n",
       "      <td>0.686811</td>\n",
       "      <td>0.727383</td>\n",
       "      <td>0.776738</td>\n",
       "      <td>0.896915</td>\n",
       "      <td>0.739538</td>\n",
       "      <td>0.675286</td>\n",
       "      <td>0.559946</td>\n",
       "      <td>-0.716773</td>\n",
       "    </tr>\n",
       "    <tr>\n",
       "      <th>Sale</th>\n",
       "      <td>0.273263</td>\n",
       "      <td>1.000000</td>\n",
       "      <td>0.016114</td>\n",
       "      <td>0.017154</td>\n",
       "      <td>0.235896</td>\n",
       "      <td>0.069517</td>\n",
       "      <td>0.099133</td>\n",
       "      <td>0.489308</td>\n",
       "      <td>0.373127</td>\n",
       "      <td>0.292164</td>\n",
       "      <td>0.437233</td>\n",
       "      <td>0.120338</td>\n",
       "      <td>-0.047991</td>\n",
       "    </tr>\n",
       "    <tr>\n",
       "      <th>weight</th>\n",
       "      <td>0.144555</td>\n",
       "      <td>0.016114</td>\n",
       "      <td>1.000000</td>\n",
       "      <td>0.890416</td>\n",
       "      <td>-0.054683</td>\n",
       "      <td>0.216257</td>\n",
       "      <td>0.222730</td>\n",
       "      <td>0.098849</td>\n",
       "      <td>0.149283</td>\n",
       "      <td>-0.029448</td>\n",
       "      <td>-0.005971</td>\n",
       "      <td>0.833783</td>\n",
       "      <td>-0.185262</td>\n",
       "    </tr>\n",
       "    <tr>\n",
       "      <th>resoloution</th>\n",
       "      <td>0.404010</td>\n",
       "      <td>0.017154</td>\n",
       "      <td>0.890416</td>\n",
       "      <td>1.000000</td>\n",
       "      <td>0.181292</td>\n",
       "      <td>0.472226</td>\n",
       "      <td>0.505454</td>\n",
       "      <td>0.202660</td>\n",
       "      <td>0.327216</td>\n",
       "      <td>0.249892</td>\n",
       "      <td>0.202720</td>\n",
       "      <td>0.843462</td>\n",
       "      <td>-0.533708</td>\n",
       "    </tr>\n",
       "    <tr>\n",
       "      <th>ppi</th>\n",
       "      <td>0.817614</td>\n",
       "      <td>0.235896</td>\n",
       "      <td>-0.054683</td>\n",
       "      <td>0.181292</td>\n",
       "      <td>1.000000</td>\n",
       "      <td>0.487990</td>\n",
       "      <td>0.713168</td>\n",
       "      <td>0.618560</td>\n",
       "      <td>0.748724</td>\n",
       "      <td>0.774008</td>\n",
       "      <td>0.491371</td>\n",
       "      <td>0.302517</td>\n",
       "      <td>-0.496791</td>\n",
       "    </tr>\n",
       "    <tr>\n",
       "      <th>cpu core</th>\n",
       "      <td>0.686811</td>\n",
       "      <td>0.069517</td>\n",
       "      <td>0.216257</td>\n",
       "      <td>0.472226</td>\n",
       "      <td>0.487990</td>\n",
       "      <td>1.000000</td>\n",
       "      <td>0.491519</td>\n",
       "      <td>0.276251</td>\n",
       "      <td>0.483128</td>\n",
       "      <td>0.611353</td>\n",
       "      <td>0.586698</td>\n",
       "      <td>0.459728</td>\n",
       "      <td>-0.697935</td>\n",
       "    </tr>\n",
       "    <tr>\n",
       "      <th>cpu freq</th>\n",
       "      <td>0.727383</td>\n",
       "      <td>0.099133</td>\n",
       "      <td>0.222730</td>\n",
       "      <td>0.505454</td>\n",
       "      <td>0.713168</td>\n",
       "      <td>0.491519</td>\n",
       "      <td>1.000000</td>\n",
       "      <td>0.441400</td>\n",
       "      <td>0.633547</td>\n",
       "      <td>0.625104</td>\n",
       "      <td>0.358319</td>\n",
       "      <td>0.473137</td>\n",
       "      <td>-0.614458</td>\n",
       "    </tr>\n",
       "    <tr>\n",
       "      <th>internal mem</th>\n",
       "      <td>0.776738</td>\n",
       "      <td>0.489308</td>\n",
       "      <td>0.098849</td>\n",
       "      <td>0.202660</td>\n",
       "      <td>0.618560</td>\n",
       "      <td>0.276251</td>\n",
       "      <td>0.441400</td>\n",
       "      <td>1.000000</td>\n",
       "      <td>0.875354</td>\n",
       "      <td>0.451917</td>\n",
       "      <td>0.555733</td>\n",
       "      <td>0.461506</td>\n",
       "      <td>-0.367412</td>\n",
       "    </tr>\n",
       "    <tr>\n",
       "      <th>ram</th>\n",
       "      <td>0.896915</td>\n",
       "      <td>0.373127</td>\n",
       "      <td>0.149283</td>\n",
       "      <td>0.327216</td>\n",
       "      <td>0.748724</td>\n",
       "      <td>0.483128</td>\n",
       "      <td>0.633547</td>\n",
       "      <td>0.875354</td>\n",
       "      <td>1.000000</td>\n",
       "      <td>0.648073</td>\n",
       "      <td>0.647470</td>\n",
       "      <td>0.541001</td>\n",
       "      <td>-0.521074</td>\n",
       "    </tr>\n",
       "    <tr>\n",
       "      <th>RearCam</th>\n",
       "      <td>0.739538</td>\n",
       "      <td>0.292164</td>\n",
       "      <td>-0.029448</td>\n",
       "      <td>0.249892</td>\n",
       "      <td>0.774008</td>\n",
       "      <td>0.611353</td>\n",
       "      <td>0.625104</td>\n",
       "      <td>0.451917</td>\n",
       "      <td>0.648073</td>\n",
       "      <td>1.000000</td>\n",
       "      <td>0.596374</td>\n",
       "      <td>0.287821</td>\n",
       "      <td>-0.550998</td>\n",
       "    </tr>\n",
       "    <tr>\n",
       "      <th>Front_Cam</th>\n",
       "      <td>0.675286</td>\n",
       "      <td>0.437233</td>\n",
       "      <td>-0.005971</td>\n",
       "      <td>0.202720</td>\n",
       "      <td>0.491371</td>\n",
       "      <td>0.586698</td>\n",
       "      <td>0.358319</td>\n",
       "      <td>0.555733</td>\n",
       "      <td>0.647470</td>\n",
       "      <td>0.596374</td>\n",
       "      <td>1.000000</td>\n",
       "      <td>0.295283</td>\n",
       "      <td>-0.493542</td>\n",
       "    </tr>\n",
       "    <tr>\n",
       "      <th>battery</th>\n",
       "      <td>0.559946</td>\n",
       "      <td>0.120338</td>\n",
       "      <td>0.833783</td>\n",
       "      <td>0.843462</td>\n",
       "      <td>0.302517</td>\n",
       "      <td>0.459728</td>\n",
       "      <td>0.473137</td>\n",
       "      <td>0.461506</td>\n",
       "      <td>0.541001</td>\n",
       "      <td>0.287821</td>\n",
       "      <td>0.295283</td>\n",
       "      <td>1.000000</td>\n",
       "      <td>-0.412682</td>\n",
       "    </tr>\n",
       "    <tr>\n",
       "      <th>thickness</th>\n",
       "      <td>-0.716773</td>\n",
       "      <td>-0.047991</td>\n",
       "      <td>-0.185262</td>\n",
       "      <td>-0.533708</td>\n",
       "      <td>-0.496791</td>\n",
       "      <td>-0.697935</td>\n",
       "      <td>-0.614458</td>\n",
       "      <td>-0.367412</td>\n",
       "      <td>-0.521074</td>\n",
       "      <td>-0.550998</td>\n",
       "      <td>-0.493542</td>\n",
       "      <td>-0.412682</td>\n",
       "      <td>1.000000</td>\n",
       "    </tr>\n",
       "  </tbody>\n",
       "</table>\n",
       "</div>"
      ],
      "text/plain": [
       "                 Price      Sale    weight  resoloution       ppi  cpu core  \\\n",
       "Price         1.000000  0.273263  0.144555     0.404010  0.817614  0.686811   \n",
       "Sale          0.273263  1.000000  0.016114     0.017154  0.235896  0.069517   \n",
       "weight        0.144555  0.016114  1.000000     0.890416 -0.054683  0.216257   \n",
       "resoloution   0.404010  0.017154  0.890416     1.000000  0.181292  0.472226   \n",
       "ppi           0.817614  0.235896 -0.054683     0.181292  1.000000  0.487990   \n",
       "cpu core      0.686811  0.069517  0.216257     0.472226  0.487990  1.000000   \n",
       "cpu freq      0.727383  0.099133  0.222730     0.505454  0.713168  0.491519   \n",
       "internal mem  0.776738  0.489308  0.098849     0.202660  0.618560  0.276251   \n",
       "ram           0.896915  0.373127  0.149283     0.327216  0.748724  0.483128   \n",
       "RearCam       0.739538  0.292164 -0.029448     0.249892  0.774008  0.611353   \n",
       "Front_Cam     0.675286  0.437233 -0.005971     0.202720  0.491371  0.586698   \n",
       "battery       0.559946  0.120338  0.833783     0.843462  0.302517  0.459728   \n",
       "thickness    -0.716773 -0.047991 -0.185262    -0.533708 -0.496791 -0.697935   \n",
       "\n",
       "              cpu freq  internal mem       ram   RearCam  Front_Cam   battery  \\\n",
       "Price         0.727383      0.776738  0.896915  0.739538   0.675286  0.559946   \n",
       "Sale          0.099133      0.489308  0.373127  0.292164   0.437233  0.120338   \n",
       "weight        0.222730      0.098849  0.149283 -0.029448  -0.005971  0.833783   \n",
       "resoloution   0.505454      0.202660  0.327216  0.249892   0.202720  0.843462   \n",
       "ppi           0.713168      0.618560  0.748724  0.774008   0.491371  0.302517   \n",
       "cpu core      0.491519      0.276251  0.483128  0.611353   0.586698  0.459728   \n",
       "cpu freq      1.000000      0.441400  0.633547  0.625104   0.358319  0.473137   \n",
       "internal mem  0.441400      1.000000  0.875354  0.451917   0.555733  0.461506   \n",
       "ram           0.633547      0.875354  1.000000  0.648073   0.647470  0.541001   \n",
       "RearCam       0.625104      0.451917  0.648073  1.000000   0.596374  0.287821   \n",
       "Front_Cam     0.358319      0.555733  0.647470  0.596374   1.000000  0.295283   \n",
       "battery       0.473137      0.461506  0.541001  0.287821   0.295283  1.000000   \n",
       "thickness    -0.614458     -0.367412 -0.521074 -0.550998  -0.493542 -0.412682   \n",
       "\n",
       "              thickness  \n",
       "Price         -0.716773  \n",
       "Sale          -0.047991  \n",
       "weight        -0.185262  \n",
       "resoloution   -0.533708  \n",
       "ppi           -0.496791  \n",
       "cpu core      -0.697935  \n",
       "cpu freq      -0.614458  \n",
       "internal mem  -0.367412  \n",
       "ram           -0.521074  \n",
       "RearCam       -0.550998  \n",
       "Front_Cam     -0.493542  \n",
       "battery       -0.412682  \n",
       "thickness      1.000000  "
      ]
     },
     "execution_count": 19,
     "metadata": {},
     "output_type": "execute_result"
    }
   ],
   "source": [
    "df.corr()"
   ]
  },
  {
   "cell_type": "code",
   "execution_count": 20,
   "id": "c8b55992",
   "metadata": {},
   "outputs": [
    {
     "data": {
      "text/html": [
       "<div>\n",
       "<style scoped>\n",
       "    .dataframe tbody tr th:only-of-type {\n",
       "        vertical-align: middle;\n",
       "    }\n",
       "\n",
       "    .dataframe tbody tr th {\n",
       "        vertical-align: top;\n",
       "    }\n",
       "\n",
       "    .dataframe thead th {\n",
       "        text-align: right;\n",
       "    }\n",
       "</style>\n",
       "<table border=\"1\" class=\"dataframe\">\n",
       "  <thead>\n",
       "    <tr style=\"text-align: right;\">\n",
       "      <th></th>\n",
       "      <th>Price</th>\n",
       "      <th>Sale</th>\n",
       "      <th>weight</th>\n",
       "      <th>resoloution</th>\n",
       "      <th>ppi</th>\n",
       "      <th>cpu core</th>\n",
       "      <th>cpu freq</th>\n",
       "      <th>internal mem</th>\n",
       "      <th>ram</th>\n",
       "      <th>RearCam</th>\n",
       "      <th>Front_Cam</th>\n",
       "      <th>battery</th>\n",
       "      <th>thickness</th>\n",
       "    </tr>\n",
       "  </thead>\n",
       "  <tbody>\n",
       "    <tr>\n",
       "      <th>Price</th>\n",
       "      <td>1.0</td>\n",
       "      <td>0.273263</td>\n",
       "      <td>0.144555</td>\n",
       "      <td>0.40401</td>\n",
       "      <td>0.817614</td>\n",
       "      <td>0.686811</td>\n",
       "      <td>0.727383</td>\n",
       "      <td>0.776738</td>\n",
       "      <td>0.896915</td>\n",
       "      <td>0.739538</td>\n",
       "      <td>0.675286</td>\n",
       "      <td>0.559946</td>\n",
       "      <td>-0.716773</td>\n",
       "    </tr>\n",
       "  </tbody>\n",
       "</table>\n",
       "</div>"
      ],
      "text/plain": [
       "       Price      Sale    weight  resoloution       ppi  cpu core  cpu freq  \\\n",
       "Price    1.0  0.273263  0.144555      0.40401  0.817614  0.686811  0.727383   \n",
       "\n",
       "       internal mem       ram   RearCam  Front_Cam   battery  thickness  \n",
       "Price      0.776738  0.896915  0.739538   0.675286  0.559946  -0.716773  "
      ]
     },
     "execution_count": 20,
     "metadata": {},
     "output_type": "execute_result"
    }
   ],
   "source": [
    "df.corr().head(1)"
   ]
  },
  {
   "cell_type": "code",
   "execution_count": 21,
   "id": "bcc7259a",
   "metadata": {
    "scrolled": false
   },
   "outputs": [
    {
     "data": {
      "text/plain": [
       "<Axes: >"
      ]
     },
     "execution_count": 21,
     "metadata": {},
     "output_type": "execute_result"
    },
    {
     "data": {
      "image/png": "[encoded data removed]",
      "text/plain": [
       "<Figure size 2000x200 with 2 Axes>"
      ]
     },
     "metadata": {},
     "output_type": "display_data"
    }
   ],
   "source": [
    "plt.figure(figsize=(20,2))\n",
    "sns.heatmap(df.corr().head(1),annot=True)\n"
   ]
  },
  {
   "cell_type": "code",
   "execution_count": 22,
   "id": "4f26761a",
   "metadata": {},
   "outputs": [],
   "source": [
    "#sns.pairplot(df)"
   ]
  },
  {
   "cell_type": "code",
   "execution_count": 23,
   "id": "48b01fd1",
   "metadata": {},
   "outputs": [],
   "source": [
    "x=df.drop(\"Price\",axis=1)\n"
   ]
  },
  {
   "cell_type": "code",
   "execution_count": 24,
   "id": "a8a96bc9",
   "metadata": {},
   "outputs": [
    {
     "data": {
      "text/plain": [
       "[2.046093549640833,\n",
       " 63.30509123096094,\n",
       " 113.76194501360314,\n",
       " 32.58655894939987,\n",
       " 14.557883248628873,\n",
       " 27.887918512179404,\n",
       " 11.74228298379985,\n",
       " 26.782571527071322,\n",
       " 14.537315677649225,\n",
       " 5.780145363801801,\n",
       " 50.477631369027286,\n",
       " 8.80323199683389]"
      ]
     },
     "execution_count": 24,
     "metadata": {},
     "output_type": "execute_result"
    }
   ],
   "source": [
    "vif_list=[variance_inflation_factor(x.to_numpy(),i) for i in range(x.shape[1])]\n",
    "vif_list"
   ]
  },
  {
   "cell_type": "code",
   "execution_count": 25,
   "id": "99d9ccb2",
   "metadata": {},
   "outputs": [
    {
     "data": {
      "text/plain": [
       "Sale              2.046094\n",
       "weight           63.305091\n",
       "resoloution     113.761945\n",
       "ppi              32.586559\n",
       "cpu core         14.557883\n",
       "cpu freq         27.887919\n",
       "internal mem     11.742283\n",
       "ram              26.782572\n",
       "RearCam          14.537316\n",
       "Front_Cam         5.780145\n",
       "battery          50.477631\n",
       "thickness         8.803232\n",
       "dtype: float64"
      ]
     },
     "execution_count": 25,
     "metadata": {},
     "output_type": "execute_result"
    }
   ],
   "source": [
    "vif_values=pd.Series(vif_list,index=x.columns)\n",
    "vif_values"
   ]
  },
  {
   "cell_type": "code",
   "execution_count": 26,
   "id": "f25e74f3",
   "metadata": {},
   "outputs": [
    {
     "data": {
      "text/plain": [
       "<Axes: >"
      ]
     },
     "execution_count": 26,
     "metadata": {},
     "output_type": "execute_result"
    },
    {
     "data": {
      "image/png": "[encoded data removed]",
      "text/plain": [
       "<Figure size 640x480 with 1 Axes>"
      ]
     },
     "metadata": {},
     "output_type": "display_data"
    }
   ],
   "source": [
    "vif_values.sort_values().plot(kind='bar')"
   ]
  },
  {
   "cell_type": "markdown",
   "id": "7065d9cb",
   "metadata": {},
   "source": [
    "# 5.Model training "
   ]
  },
  {
   "cell_type": "code",
   "execution_count": 27,
   "id": "78151d44",
   "metadata": {},
   "outputs": [],
   "source": [
    "x=df.drop(\"Price\",axis=1)\n",
    "y=df['Price']"
   ]
  },
  {
   "cell_type": "code",
   "execution_count": 28,
   "id": "db40a113",
   "metadata": {},
   "outputs": [
    {
     "data": {
      "text/html": [
       "<div>\n",
       "<style scoped>\n",
       "    .dataframe tbody tr th:only-of-type {\n",
       "        vertical-align: middle;\n",
       "    }\n",
       "\n",
       "    .dataframe tbody tr th {\n",
       "        vertical-align: top;\n",
       "    }\n",
       "\n",
       "    .dataframe thead th {\n",
       "        text-align: right;\n",
       "    }\n",
       "</style>\n",
       "<table border=\"1\" class=\"dataframe\">\n",
       "  <thead>\n",
       "    <tr style=\"text-align: right;\">\n",
       "      <th></th>\n",
       "      <th>Sale</th>\n",
       "      <th>weight</th>\n",
       "      <th>resoloution</th>\n",
       "      <th>ppi</th>\n",
       "      <th>cpu core</th>\n",
       "      <th>cpu freq</th>\n",
       "      <th>internal mem</th>\n",
       "      <th>ram</th>\n",
       "      <th>RearCam</th>\n",
       "      <th>Front_Cam</th>\n",
       "      <th>battery</th>\n",
       "      <th>thickness</th>\n",
       "    </tr>\n",
       "  </thead>\n",
       "  <tbody>\n",
       "    <tr>\n",
       "      <th>87</th>\n",
       "      <td>119</td>\n",
       "      <td>167.8</td>\n",
       "      <td>5.43</td>\n",
       "      <td>541</td>\n",
       "      <td>4</td>\n",
       "      <td>1.875</td>\n",
       "      <td>128.000</td>\n",
       "      <td>6.000</td>\n",
       "      <td>16.0</td>\n",
       "      <td>8.0</td>\n",
       "      <td>3600</td>\n",
       "      <td>7.6</td>\n",
       "    </tr>\n",
       "    <tr>\n",
       "      <th>77</th>\n",
       "      <td>101</td>\n",
       "      <td>279.0</td>\n",
       "      <td>7.00</td>\n",
       "      <td>170</td>\n",
       "      <td>4</td>\n",
       "      <td>1.200</td>\n",
       "      <td>4.000</td>\n",
       "      <td>1.000</td>\n",
       "      <td>3.0</td>\n",
       "      <td>0.0</td>\n",
       "      <td>3240</td>\n",
       "      <td>9.0</td>\n",
       "    </tr>\n",
       "    <tr>\n",
       "      <th>63</th>\n",
       "      <td>71</td>\n",
       "      <td>97.0</td>\n",
       "      <td>4.80</td>\n",
       "      <td>306</td>\n",
       "      <td>8</td>\n",
       "      <td>1.700</td>\n",
       "      <td>16.000</td>\n",
       "      <td>1.000</td>\n",
       "      <td>8.0</td>\n",
       "      <td>5.0</td>\n",
       "      <td>2100</td>\n",
       "      <td>5.1</td>\n",
       "    </tr>\n",
       "    <tr>\n",
       "      <th>91</th>\n",
       "      <td>143</td>\n",
       "      <td>154.0</td>\n",
       "      <td>5.00</td>\n",
       "      <td>294</td>\n",
       "      <td>4</td>\n",
       "      <td>1.200</td>\n",
       "      <td>8.000</td>\n",
       "      <td>1.000</td>\n",
       "      <td>13.0</td>\n",
       "      <td>5.0</td>\n",
       "      <td>2100</td>\n",
       "      <td>8.4</td>\n",
       "    </tr>\n",
       "    <tr>\n",
       "      <th>118</th>\n",
       "      <td>373</td>\n",
       "      <td>169.0</td>\n",
       "      <td>5.50</td>\n",
       "      <td>403</td>\n",
       "      <td>8</td>\n",
       "      <td>1.350</td>\n",
       "      <td>16.000</td>\n",
       "      <td>2.000</td>\n",
       "      <td>21.0</td>\n",
       "      <td>5.0</td>\n",
       "      <td>3630</td>\n",
       "      <td>10.9</td>\n",
       "    </tr>\n",
       "    <tr>\n",
       "      <th>...</th>\n",
       "      <td>...</td>\n",
       "      <td>...</td>\n",
       "      <td>...</td>\n",
       "      <td>...</td>\n",
       "      <td>...</td>\n",
       "      <td>...</td>\n",
       "      <td>...</td>\n",
       "      <td>...</td>\n",
       "      <td>...</td>\n",
       "      <td>...</td>\n",
       "      <td>...</td>\n",
       "      <td>...</td>\n",
       "    </tr>\n",
       "    <tr>\n",
       "      <th>125</th>\n",
       "      <td>423</td>\n",
       "      <td>110.0</td>\n",
       "      <td>2.20</td>\n",
       "      <td>128</td>\n",
       "      <td>0</td>\n",
       "      <td>0.000</td>\n",
       "      <td>0.128</td>\n",
       "      <td>0.032</td>\n",
       "      <td>2.0</td>\n",
       "      <td>0.0</td>\n",
       "      <td>900</td>\n",
       "      <td>15.6</td>\n",
       "    </tr>\n",
       "    <tr>\n",
       "      <th>123</th>\n",
       "      <td>399</td>\n",
       "      <td>194.8</td>\n",
       "      <td>5.70</td>\n",
       "      <td>258</td>\n",
       "      <td>4</td>\n",
       "      <td>1.200</td>\n",
       "      <td>16.000</td>\n",
       "      <td>2.000</td>\n",
       "      <td>8.0</td>\n",
       "      <td>1.0</td>\n",
       "      <td>3400</td>\n",
       "      <td>10.2</td>\n",
       "    </tr>\n",
       "    <tr>\n",
       "      <th>65</th>\n",
       "      <td>73</td>\n",
       "      <td>175.0</td>\n",
       "      <td>5.50</td>\n",
       "      <td>401</td>\n",
       "      <td>6</td>\n",
       "      <td>1.530</td>\n",
       "      <td>32.000</td>\n",
       "      <td>3.000</td>\n",
       "      <td>21.0</td>\n",
       "      <td>8.0</td>\n",
       "      <td>3500</td>\n",
       "      <td>9.3</td>\n",
       "    </tr>\n",
       "    <tr>\n",
       "      <th>69</th>\n",
       "      <td>87</td>\n",
       "      <td>97.0</td>\n",
       "      <td>4.80</td>\n",
       "      <td>306</td>\n",
       "      <td>8</td>\n",
       "      <td>1.700</td>\n",
       "      <td>16.000</td>\n",
       "      <td>1.000</td>\n",
       "      <td>8.0</td>\n",
       "      <td>5.0</td>\n",
       "      <td>2100</td>\n",
       "      <td>5.1</td>\n",
       "    </tr>\n",
       "    <tr>\n",
       "      <th>121</th>\n",
       "      <td>385</td>\n",
       "      <td>169.0</td>\n",
       "      <td>5.50</td>\n",
       "      <td>403</td>\n",
       "      <td>8</td>\n",
       "      <td>1.350</td>\n",
       "      <td>16.000</td>\n",
       "      <td>2.000</td>\n",
       "      <td>21.0</td>\n",
       "      <td>5.0</td>\n",
       "      <td>3630</td>\n",
       "      <td>10.9</td>\n",
       "    </tr>\n",
       "  </tbody>\n",
       "</table>\n",
       "<p>128 rows × 12 columns</p>\n",
       "</div>"
      ],
      "text/plain": [
       "     Sale  weight  resoloution  ppi  cpu core  cpu freq  internal mem    ram  \\\n",
       "87    119   167.8         5.43  541         4     1.875       128.000  6.000   \n",
       "77    101   279.0         7.00  170         4     1.200         4.000  1.000   \n",
       "63     71    97.0         4.80  306         8     1.700        16.000  1.000   \n",
       "91    143   154.0         5.00  294         4     1.200         8.000  1.000   \n",
       "118   373   169.0         5.50  403         8     1.350        16.000  2.000   \n",
       "..    ...     ...          ...  ...       ...       ...           ...    ...   \n",
       "125   423   110.0         2.20  128         0     0.000         0.128  0.032   \n",
       "123   399   194.8         5.70  258         4     1.200        16.000  2.000   \n",
       "65     73   175.0         5.50  401         6     1.530        32.000  3.000   \n",
       "69     87    97.0         4.80  306         8     1.700        16.000  1.000   \n",
       "121   385   169.0         5.50  403         8     1.350        16.000  2.000   \n",
       "\n",
       "     RearCam  Front_Cam  battery  thickness  \n",
       "87      16.0        8.0     3600        7.6  \n",
       "77       3.0        0.0     3240        9.0  \n",
       "63       8.0        5.0     2100        5.1  \n",
       "91      13.0        5.0     2100        8.4  \n",
       "118     21.0        5.0     3630       10.9  \n",
       "..       ...        ...      ...        ...  \n",
       "125      2.0        0.0      900       15.6  \n",
       "123      8.0        1.0     3400       10.2  \n",
       "65      21.0        8.0     3500        9.3  \n",
       "69       8.0        5.0     2100        5.1  \n",
       "121     21.0        5.0     3630       10.9  \n",
       "\n",
       "[128 rows x 12 columns]"
      ]
     },
     "execution_count": 28,
     "metadata": {},
     "output_type": "execute_result"
    }
   ],
   "source": [
    "x_train,x_test,y_train,y_test=train_test_split(x,y,test_size=0.2,random_state=16)\n",
    "x_train"
   ]
  },
  {
   "cell_type": "markdown",
   "id": "8456a4f1",
   "metadata": {},
   "source": [
    "### instancing linear regression"
   ]
  },
  {
   "cell_type": "code",
   "execution_count": 29,
   "id": "bc0f4967",
   "metadata": {},
   "outputs": [
    {
     "data": {
      "text/html": [
       "<style>#sk-container-id-1 {color: black;background-color: white;}#sk-container-id-1 pre{padding: 0;}#sk-container-id-1 div.sk-toggleable {background-color: white;}#sk-container-id-1 label.sk-toggleable__label {cursor: pointer;display: block;width: 100%;margin-bottom: 0;padding: 0.3em;box-sizing: border-box;text-align: center;}#sk-container-id-1 label.sk-toggleable__label-arrow:before {content: \"▸\";float: left;margin-right: 0.25em;color: #696969;}#sk-container-id-1 label.sk-toggleable__label-arrow:hover:before {color: black;}#sk-container-id-1 div.sk-estimator:hover label.sk-toggleable__label-arrow:before {color: black;}#sk-container-id-1 div.sk-toggleable__content {max-height: 0;max-width: 0;overflow: hidden;text-align: left;background-color: #f0f8ff;}#sk-container-id-1 div.sk-toggleable__content pre {margin: 0.2em;color: black;border-radius: 0.25em;background-color: #f0f8ff;}#sk-container-id-1 input.sk-toggleable__control:checked~div.sk-toggleable__content {max-height: 200px;max-width: 100%;overflow: auto;}#sk-container-id-1 input.sk-toggleable__control:checked~label.sk-toggleable__label-arrow:before {content: \"▾\";}#sk-container-id-1 div.sk-estimator input.sk-toggleable__control:checked~label.sk-toggleable__label {background-color: #d4ebff;}#sk-container-id-1 div.sk-label input.sk-toggleable__control:checked~label.sk-toggleable__label {background-color: #d4ebff;}#sk-container-id-1 input.sk-hidden--visually {border: 0;clip: rect(1px 1px 1px 1px);clip: rect(1px, 1px, 1px, 1px);height: 1px;margin: -1px;overflow: hidden;padding: 0;position: absolute;width: 1px;}#sk-container-id-1 div.sk-estimator {font-family: monospace;background-color: #f0f8ff;border: 1px dotted black;border-radius: 0.25em;box-sizing: border-box;margin-bottom: 0.5em;}#sk-container-id-1 div.sk-estimator:hover {background-color: #d4ebff;}#sk-container-id-1 div.sk-parallel-item::after {content: \"\";width: 100%;border-bottom: 1px solid gray;flex-grow: 1;}#sk-container-id-1 div.sk-label:hover label.sk-toggleable__label {background-color: #d4ebff;}#sk-container-id-1 div.sk-serial::before {content: \"\";position: absolute;border-left: 1px solid gray;box-sizing: border-box;top: 0;bottom: 0;left: 50%;z-index: 0;}#sk-container-id-1 div.sk-serial {display: flex;flex-direction: column;align-items: center;background-color: white;padding-right: 0.2em;padding-left: 0.2em;position: relative;}#sk-container-id-1 div.sk-item {position: relative;z-index: 1;}#sk-container-id-1 div.sk-parallel {display: flex;align-items: stretch;justify-content: center;background-color: white;position: relative;}#sk-container-id-1 div.sk-item::before, #sk-container-id-1 div.sk-parallel-item::before {content: \"\";position: absolute;border-left: 1px solid gray;box-sizing: border-box;top: 0;bottom: 0;left: 50%;z-index: -1;}#sk-container-id-1 div.sk-parallel-item {display: flex;flex-direction: column;z-index: 1;position: relative;background-color: white;}#sk-container-id-1 div.sk-parallel-item:first-child::after {align-self: flex-end;width: 50%;}#sk-container-id-1 div.sk-parallel-item:last-child::after {align-self: flex-start;width: 50%;}#sk-container-id-1 div.sk-parallel-item:only-child::after {width: 0;}#sk-container-id-1 div.sk-dashed-wrapped {border: 1px dashed gray;margin: 0 0.4em 0.5em 0.4em;box-sizing: border-box;padding-bottom: 0.4em;background-color: white;}#sk-container-id-1 div.sk-label label {font-family: monospace;font-weight: bold;display: inline-block;line-height: 1.2em;}#sk-container-id-1 div.sk-label-container {text-align: center;}#sk-container-id-1 div.sk-container {/* jupyter's `normalize.less` sets `[hidden] { display: none; }` but bootstrap.min.css set `[hidden] { display: none !important; }` so we also need the `!important` here to be able to override the default hidden behavior on the sphinx rendered scikit-learn.org. See: https://github.com/scikit-learn/scikit-learn/issues/21755 */display: inline-block !important;position: relative;}#sk-container-id-1 div.sk-text-repr-fallback {display: none;}</style><div id=\"sk-container-id-1\" class=\"sk-top-container\"><div class=\"sk-text-repr-fallback\"><pre>LinearRegression()</pre><b>In a Jupyter environment, please rerun this cell to show the HTML representation or trust the notebook. <br />On GitHub, the HTML representation is unable to render, please try loading this page with nbviewer.org.</b></div><div class=\"sk-container\" hidden><div class=\"sk-item\"><div class=\"sk-estimator sk-toggleable\"><input class=\"sk-toggleable__control sk-hidden--visually\" id=\"sk-estimator-id-1\" type=\"checkbox\" checked><label for=\"sk-estimator-id-1\" class=\"sk-toggleable__label sk-toggleable__label-arrow\">LinearRegression</label><div class=\"sk-toggleable__content\"><pre>LinearRegression()</pre></div></div></div></div></div>"
      ],
      "text/plain": [
       "LinearRegression()"
      ]
     },
     "execution_count": 29,
     "metadata": {},
     "output_type": "execute_result"
    }
   ],
   "source": [
    "linear_reg=LinearRegression()\n",
    "linear_reg"
   ]
  },
  {
   "cell_type": "code",
   "execution_count": 30,
   "id": "e8096f2f",
   "metadata": {},
   "outputs": [
    {
     "data": {
      "text/html": [
       "<style>#sk-container-id-2 {color: black;background-color: white;}#sk-container-id-2 pre{padding: 0;}#sk-container-id-2 div.sk-toggleable {background-color: white;}#sk-container-id-2 label.sk-toggleable__label {cursor: pointer;display: block;width: 100%;margin-bottom: 0;padding: 0.3em;box-sizing: border-box;text-align: center;}#sk-container-id-2 label.sk-toggleable__label-arrow:before {content: \"▸\";float: left;margin-right: 0.25em;color: #696969;}#sk-container-id-2 label.sk-toggleable__label-arrow:hover:before {color: black;}#sk-container-id-2 div.sk-estimator:hover label.sk-toggleable__label-arrow:before {color: black;}#sk-container-id-2 div.sk-toggleable__content {max-height: 0;max-width: 0;overflow: hidden;text-align: left;background-color: #f0f8ff;}#sk-container-id-2 div.sk-toggleable__content pre {margin: 0.2em;color: black;border-radius: 0.25em;background-color: #f0f8ff;}#sk-container-id-2 input.sk-toggleable__control:checked~div.sk-toggleable__content {max-height: 200px;max-width: 100%;overflow: auto;}#sk-container-id-2 input.sk-toggleable__control:checked~label.sk-toggleable__label-arrow:before {content: \"▾\";}#sk-container-id-2 div.sk-estimator input.sk-toggleable__control:checked~label.sk-toggleable__label {background-color: #d4ebff;}#sk-container-id-2 div.sk-label input.sk-toggleable__control:checked~label.sk-toggleable__label {background-color: #d4ebff;}#sk-container-id-2 input.sk-hidden--visually {border: 0;clip: rect(1px 1px 1px 1px);clip: rect(1px, 1px, 1px, 1px);height: 1px;margin: -1px;overflow: hidden;padding: 0;position: absolute;width: 1px;}#sk-container-id-2 div.sk-estimator {font-family: monospace;background-color: #f0f8ff;border: 1px dotted black;border-radius: 0.25em;box-sizing: border-box;margin-bottom: 0.5em;}#sk-container-id-2 div.sk-estimator:hover {background-color: #d4ebff;}#sk-container-id-2 div.sk-parallel-item::after {content: \"\";width: 100%;border-bottom: 1px solid gray;flex-grow: 1;}#sk-container-id-2 div.sk-label:hover label.sk-toggleable__label {background-color: #d4ebff;}#sk-container-id-2 div.sk-serial::before {content: \"\";position: absolute;border-left: 1px solid gray;box-sizing: border-box;top: 0;bottom: 0;left: 50%;z-index: 0;}#sk-container-id-2 div.sk-serial {display: flex;flex-direction: column;align-items: center;background-color: white;padding-right: 0.2em;padding-left: 0.2em;position: relative;}#sk-container-id-2 div.sk-item {position: relative;z-index: 1;}#sk-container-id-2 div.sk-parallel {display: flex;align-items: stretch;justify-content: center;background-color: white;position: relative;}#sk-container-id-2 div.sk-item::before, #sk-container-id-2 div.sk-parallel-item::before {content: \"\";position: absolute;border-left: 1px solid gray;box-sizing: border-box;top: 0;bottom: 0;left: 50%;z-index: -1;}#sk-container-id-2 div.sk-parallel-item {display: flex;flex-direction: column;z-index: 1;position: relative;background-color: white;}#sk-container-id-2 div.sk-parallel-item:first-child::after {align-self: flex-end;width: 50%;}#sk-container-id-2 div.sk-parallel-item:last-child::after {align-self: flex-start;width: 50%;}#sk-container-id-2 div.sk-parallel-item:only-child::after {width: 0;}#sk-container-id-2 div.sk-dashed-wrapped {border: 1px dashed gray;margin: 0 0.4em 0.5em 0.4em;box-sizing: border-box;padding-bottom: 0.4em;background-color: white;}#sk-container-id-2 div.sk-label label {font-family: monospace;font-weight: bold;display: inline-block;line-height: 1.2em;}#sk-container-id-2 div.sk-label-container {text-align: center;}#sk-container-id-2 div.sk-container {/* jupyter's `normalize.less` sets `[hidden] { display: none; }` but bootstrap.min.css set `[hidden] { display: none !important; }` so we also need the `!important` here to be able to override the default hidden behavior on the sphinx rendered scikit-learn.org. See: https://github.com/scikit-learn/scikit-learn/issues/21755 */display: inline-block !important;position: relative;}#sk-container-id-2 div.sk-text-repr-fallback {display: none;}</style><div id=\"sk-container-id-2\" class=\"sk-top-container\"><div class=\"sk-text-repr-fallback\"><pre>LinearRegression()</pre><b>In a Jupyter environment, please rerun this cell to show the HTML representation or trust the notebook. <br />On GitHub, the HTML representation is unable to render, please try loading this page with nbviewer.org.</b></div><div class=\"sk-container\" hidden><div class=\"sk-item\"><div class=\"sk-estimator sk-toggleable\"><input class=\"sk-toggleable__control sk-hidden--visually\" id=\"sk-estimator-id-2\" type=\"checkbox\" checked><label for=\"sk-estimator-id-2\" class=\"sk-toggleable__label sk-toggleable__label-arrow\">LinearRegression</label><div class=\"sk-toggleable__content\"><pre>LinearRegression()</pre></div></div></div></div></div>"
      ],
      "text/plain": [
       "LinearRegression()"
      ]
     },
     "execution_count": 30,
     "metadata": {},
     "output_type": "execute_result"
    }
   ],
   "source": [
    "linear_reg.fit(x_train,y_train) # gradient descent algorithm in back end"
   ]
  },
  {
   "cell_type": "code",
   "execution_count": 31,
   "id": "ba1eb793",
   "metadata": {},
   "outputs": [
    {
     "data": {
      "text/plain": [
       "array([-2.43779167e-02, -8.74149145e-01, -5.13325472e+01,  1.08313031e+00,\n",
       "        4.18849481e+01,  1.12830964e+02,  6.54416232e+00,  8.79119620e+01,\n",
       "        2.71079786e+00,  1.26815376e+01,  1.42687592e-01, -7.17400019e+01])"
      ]
     },
     "execution_count": 31,
     "metadata": {},
     "output_type": "execute_result"
    }
   ],
   "source": [
    "linear_reg.coef_"
   ]
  },
  {
   "cell_type": "code",
   "execution_count": 32,
   "id": "c4f487b8",
   "metadata": {},
   "outputs": [
    {
     "data": {
      "text/plain": [
       "1696.4492298986509"
      ]
     },
     "execution_count": 32,
     "metadata": {},
     "output_type": "execute_result"
    }
   ],
   "source": [
    "linear_reg.intercept_"
   ]
  },
  {
   "cell_type": "code",
   "execution_count": 33,
   "id": "f35547fb",
   "metadata": {},
   "outputs": [
    {
     "data": {
      "text/plain": [
       "12"
      ]
     },
     "execution_count": 33,
     "metadata": {},
     "output_type": "execute_result"
    }
   ],
   "source": [
    "linear_reg.n_features_in_"
   ]
  },
  {
   "cell_type": "markdown",
   "id": "da697d5e",
   "metadata": {},
   "source": [
    "# 6 Model Evaluation"
   ]
  },
  {
   "cell_type": "code",
   "execution_count": 34,
   "id": "f91aff72",
   "metadata": {},
   "outputs": [],
   "source": [
    "y_pred=linear_reg.predict(x_test)"
   ]
  },
  {
   "cell_type": "markdown",
   "id": "5b800fad",
   "metadata": {},
   "source": [
    "### testing data evaluation"
   ]
  },
  {
   "cell_type": "code",
   "execution_count": 35,
   "id": "dc7727b5",
   "metadata": {},
   "outputs": [
    {
     "name": "stdout",
     "output_type": "stream",
     "text": [
      "mean sqaured error:  37369.63154251221\n",
      "root mean sqaured error:  193.31226433548443\n",
      "mean absolute error:  147.54704475786755\n",
      "r_sqaured values:  0.9240268852547493\n",
      "adjusted r2 values:  0.8784430164075989\n"
     ]
    }
   ],
   "source": [
    "mse=mean_squared_error(y_test,y_pred)\n",
    "print(\"mean sqaured error: \",mse)\n",
    "\n",
    "rmse=np.sqrt(mse)\n",
    "print(\"root mean sqaured error: \",rmse)\n",
    "\n",
    "mae=mean_absolute_error(y_test,y_pred)\n",
    "print(\"mean absolute error: \",mae)\n",
    "\n",
    "r_sqaured=r2_score(y_test,y_pred)\n",
    "print(\"r_sqaured values: \",r_sqaured)\n",
    "\n",
    "n=x_test.shape[0]\n",
    "k=x_test.shape[1]\n",
    "\n",
    "adj_r2=1-((1-r_sqaured)*(n-1))/(n-k-1)\n",
    "print(\"adjusted r2 values: \",adj_r2)"
   ]
  },
  {
   "cell_type": "markdown",
   "id": "95764d9b",
   "metadata": {},
   "source": [
    "### training data evalution"
   ]
  },
  {
   "cell_type": "code",
   "execution_count": 36,
   "id": "4020fa21",
   "metadata": {},
   "outputs": [],
   "source": [
    "y_pred_train=linear_reg.predict(x_train)"
   ]
  },
  {
   "cell_type": "code",
   "execution_count": 37,
   "id": "03f683e4",
   "metadata": {},
   "outputs": [
    {
     "name": "stdout",
     "output_type": "stream",
     "text": [
      "mean sqaured error:  25201.30811062225\n",
      "root mean sqaured error:  158.74919877159144\n",
      "mean absolute error:  133.63102313029546\n",
      "r_sqaured values:  0.9586110585379877\n",
      "adjusted r2 values:  0.9542922124723864\n"
     ]
    }
   ],
   "source": [
    "mse=mean_squared_error(y_train,y_pred_train)\n",
    "print(\"mean sqaured error: \",mse)\n",
    "\n",
    "rmse=np.sqrt(mse)\n",
    "print(\"root mean sqaured error: \",rmse)\n",
    "\n",
    "mae=mean_absolute_error(y_train,y_pred_train)\n",
    "print(\"mean absolute error: \",mae)\n",
    "\n",
    "r_sqaured=r2_score(y_train,y_pred_train)\n",
    "print(\"r_sqaured values: \",r_sqaured)\n",
    "\n",
    "n=x_train.shape[0]\n",
    "k=x_train.shape[1]\n",
    "\n",
    "adj_r2=1-((1-r_sqaured)*(n-1))/(n-k-1)\n",
    "print(\"adjusted r2 values: \",adj_r2)"
   ]
  },
  {
   "cell_type": "markdown",
   "id": "91b3db61",
   "metadata": {},
   "source": [
    "### Assumption of linear regreesion after training the model"
   ]
  },
  {
   "cell_type": "markdown",
   "id": "e82ea417",
   "metadata": {},
   "source": [
    "### 3.normality of residuals\n"
   ]
  },
  {
   "cell_type": "code",
   "execution_count": 38,
   "id": "3193e77c",
   "metadata": {},
   "outputs": [],
   "source": [
    "residuals=y_test -y_pred"
   ]
  },
  {
   "cell_type": "markdown",
   "id": "8b0cf4f7",
   "metadata": {},
   "source": [
    "### to check normality by visulization"
   ]
  },
  {
   "cell_type": "code",
   "execution_count": 39,
   "id": "ad2f5354",
   "metadata": {},
   "outputs": [
    {
     "data": {
      "text/plain": [
       "<Axes: xlabel='Price', ylabel='Density'>"
      ]
     },
     "execution_count": 39,
     "metadata": {},
     "output_type": "execute_result"
    },
    {
     "data": {
      "image/png": "[encoded data removed]",
      "text/plain": [
       "<Figure size 640x480 with 1 Axes>"
      ]
     },
     "metadata": {},
     "output_type": "display_data"
    }
   ],
   "source": [
    "sns.kdeplot(residuals)"
   ]
  },
  {
   "cell_type": "code",
   "execution_count": 40,
   "id": "3b0ac565",
   "metadata": {},
   "outputs": [
    {
     "data": {
      "text/plain": [
       "<Axes: xlabel='Price', ylabel='Count'>"
      ]
     },
     "execution_count": 40,
     "metadata": {},
     "output_type": "execute_result"
    },
    {
     "data": {
      "image/png": "[encoded data removed]",
      "text/plain": [
       "<Figure size 640x480 with 1 Axes>"
      ]
     },
     "metadata": {},
     "output_type": "display_data"
    }
   ],
   "source": [
    "sns.histplot(residuals)"
   ]
  },
  {
   "cell_type": "code",
   "execution_count": 41,
   "id": "087a8c25",
   "metadata": {},
   "outputs": [
    {
     "name": "stderr",
     "output_type": "stream",
     "text": [
      "C:\\Users\\Lenovo\\AppData\\Local\\Temp\\ipykernel_10528\\2665350104.py:1: UserWarning: \n",
      "\n",
      "`distplot` is a deprecated function and will be removed in seaborn v0.14.0.\n",
      "\n",
      "Please adapt your code to use either `displot` (a figure-level function with\n",
      "similar flexibility) or `histplot` (an axes-level function for histograms).\n",
      "\n",
      "For a guide to updating your code to use the new functions, please see\n",
      "https://gist.github.com/mwaskom/de44147ed2974457ad6372750bbe5751\n",
      "\n",
      "  sns.distplot(residuals)\n"
     ]
    },
    {
     "data": {
      "text/plain": [
       "<Axes: xlabel='Price', ylabel='Density'>"
      ]
     },
     "execution_count": 41,
     "metadata": {},
     "output_type": "execute_result"
    },
    {
     "data": {
      "image/png": "[encoded data removed]",
      "text/plain": [
       "<Figure size 640x480 with 1 Axes>"
      ]
     },
     "metadata": {},
     "output_type": "display_data"
    }
   ],
   "source": [
    "sns.distplot(residuals)"
   ]
  },
  {
   "cell_type": "markdown",
   "id": "ddee547d",
   "metadata": {},
   "source": [
    "### normality check by QQplot"
   ]
  },
  {
   "cell_type": "code",
   "execution_count": 42,
   "id": "0953a34b",
   "metadata": {},
   "outputs": [
    {
     "data": {
      "image/png": "[encoded data removed]",
      "text/plain": [
       "<Figure size 640x480 with 1 Axes>"
      ]
     },
     "execution_count": 42,
     "metadata": {},
     "output_type": "execute_result"
    },
    {
     "data": {
      "image/png": "[encoded data removed]",
      "text/plain": [
       "<Figure size 640x480 with 1 Axes>"
      ]
     },
     "metadata": {},
     "output_type": "display_data"
    }
   ],
   "source": [
    "sm.qqplot(residuals,line='45',fit=True)"
   ]
  },
  {
   "cell_type": "markdown",
   "id": "83d4804c",
   "metadata": {},
   "source": [
    "### to check normality by hypothesis testing"
   ]
  },
  {
   "cell_type": "markdown",
   "id": "1444d090",
   "metadata": {},
   "source": [
    "### 1.shapiro"
   ]
  },
  {
   "cell_type": "code",
   "execution_count": 43,
   "id": "7ef68e37",
   "metadata": {},
   "outputs": [
    {
     "name": "stdout",
     "output_type": "stream",
     "text": [
      "p_values:  0.1863938570022583\n",
      "data is normally distributed\n",
      "null hypothesis is true\n"
     ]
    }
   ],
   "source": [
    "_,p_val=shapiro(residuals)\n",
    "print(\"p_values: \",p_val)\n",
    "if p_val>=0.05:\n",
    "    print(\"data is normally distributed\")\n",
    "    print(\"null hypothesis is true\")\n",
    "    \n",
    "else:\n",
    "    print(\"data is not normally distributed\")\n",
    "    print(\"alternate hypothesis is true\")"
   ]
  },
  {
   "cell_type": "markdown",
   "id": "5b16a7ba",
   "metadata": {},
   "source": [
    "### 2.kstest"
   ]
  },
  {
   "cell_type": "code",
   "execution_count": 44,
   "id": "49f4eaa3",
   "metadata": {},
   "outputs": [
    {
     "name": "stdout",
     "output_type": "stream",
     "text": [
      "p_values:  9.817786034223885e-10\n",
      "data is not normally distributed\n",
      "alternate hypothesis is true\n"
     ]
    }
   ],
   "source": [
    "_,p_val=kstest(residuals,'norm')\n",
    "print(\"p_values: \",p_val)\n",
    "if p_val>=0.05:\n",
    "    print(\"data is normally distributed\")\n",
    "    print(\"null hypothesis is true\")\n",
    "    \n",
    "else:\n",
    "    print(\"data is not normally distributed\")\n",
    "    print(\"alternate hypothesis is true\")"
   ]
  },
  {
   "cell_type": "markdown",
   "id": "751a40cb",
   "metadata": {},
   "source": [
    "### 3.normaltest"
   ]
  },
  {
   "cell_type": "code",
   "execution_count": 45,
   "id": "bb3ed16d",
   "metadata": {},
   "outputs": [
    {
     "name": "stdout",
     "output_type": "stream",
     "text": [
      "p_values:  0.24905308178444896\n",
      "data is normally distributed\n",
      "null hypothesis is true\n"
     ]
    }
   ],
   "source": [
    "_,p_val=normaltest(residuals)\n",
    "print(\"p_values: \",p_val)\n",
    "if p_val>=0.05:\n",
    "    print(\"data is normally distributed\")\n",
    "    print(\"null hypothesis is true\")\n",
    "    \n",
    "else:\n",
    "    print(\"data is not normally distributed\")\n",
    "    print(\"alternate hypothesis is true\")"
   ]
  },
  {
   "cell_type": "markdown",
   "id": "80a061d2",
   "metadata": {},
   "source": [
    "### 4. to check normality of residuals by Skewness"
   ]
  },
  {
   "cell_type": "code",
   "execution_count": 46,
   "id": "d504bcef",
   "metadata": {},
   "outputs": [
    {
     "name": "stdout",
     "output_type": "stream",
     "text": [
      "mean:  48.20823163585787\n",
      "median:  26.22322416067027\n",
      "skew:  0.6332421279474597\n",
      "data is positively skewed\n",
      "skew:  0.6332421279474597\n"
     ]
    }
   ],
   "source": [
    "mean=residuals.mean()\n",
    "print(\"mean: \",mean)\n",
    "\n",
    "median=residuals.median()\n",
    "print(\"median: \",median)\n",
    "\n",
    "skew=residuals.skew()\n",
    "print(\"skew: \",skew)\n",
    "\n",
    "if mean > median:\n",
    "    print(\"data is positively skewed\")\n",
    "    print(\"skew: \",skew)\n",
    "elif mean <median:\n",
    "    print(\"data is negatively skewed\")\n",
    "    print(\"skew: \",skew)\n",
    "else:\n",
    "    print(\"data is symmetric\")\n",
    "    print(\"skew: \",skew)"
   ]
  },
  {
   "cell_type": "markdown",
   "id": "14d05265",
   "metadata": {},
   "source": [
    "## 4.homoscadasticity"
   ]
  },
  {
   "cell_type": "code",
   "execution_count": 47,
   "id": "5fe703c3",
   "metadata": {},
   "outputs": [
    {
     "data": {
      "text/plain": [
       "87     125.397422\n",
       "77    -120.709505\n",
       "63    -110.342365\n",
       "91     -27.999990\n",
       "118   -264.053854\n",
       "          ...    \n",
       "125     70.962726\n",
       "123    126.484528\n",
       "65     242.606461\n",
       "69    -109.952318\n",
       "121   -263.761319\n",
       "Name: Price, Length: 128, dtype: float64"
      ]
     },
     "execution_count": 47,
     "metadata": {},
     "output_type": "execute_result"
    }
   ],
   "source": [
    "residual_train=y_train - y_pred_train\n",
    "residual_train"
   ]
  },
  {
   "cell_type": "code",
   "execution_count": 48,
   "id": "241dd2ab",
   "metadata": {},
   "outputs": [
    {
     "data": {
      "image/png": "[encoded data removed]",
      "text/plain": [
       "<Figure size 700x700 with 1 Axes>"
      ]
     },
     "metadata": {},
     "output_type": "display_data"
    }
   ],
   "source": [
    "plt.figure(figsize=(7,7))\n",
    "sns.scatterplot(x=y_train,y=y_pred_train)\n",
    "plt.xlabel(\"y actual\")\n",
    "plt.ylabel(\"residual_train\")\n",
    "plt.title(\"y actual and residuals plot\")\n",
    "plt.savefig('mobilescatterplot.png')"
   ]
  },
  {
   "cell_type": "code",
   "execution_count": 49,
   "id": "927ed339",
   "metadata": {},
   "outputs": [
    {
     "data": {
      "image/png": "[encoded data removed]",
      "text/plain": [
       "<Figure size 700x700 with 1 Axes>"
      ]
     },
     "metadata": {},
     "output_type": "display_data"
    }
   ],
   "source": [
    "plt.figure(figsize=(7,7))\n",
    "sns.scatterplot(x=y_test,y=y_pred)\n",
    "plt.xlabel(\"y actual\")\n",
    "plt.ylabel(\"residual\")\n",
    "plt.title(\"y actual and residuals plot\")\n",
    "plt.savefig('mobilescatterplot.png')"
   ]
  },
  {
   "cell_type": "code",
   "execution_count": 50,
   "id": "220d48b2",
   "metadata": {},
   "outputs": [
    {
     "data": {
      "text/html": [
       "<div>\n",
       "<style scoped>\n",
       "    .dataframe tbody tr th:only-of-type {\n",
       "        vertical-align: middle;\n",
       "    }\n",
       "\n",
       "    .dataframe tbody tr th {\n",
       "        vertical-align: top;\n",
       "    }\n",
       "\n",
       "    .dataframe thead th {\n",
       "        text-align: right;\n",
       "    }\n",
       "</style>\n",
       "<table border=\"1\" class=\"dataframe\">\n",
       "  <thead>\n",
       "    <tr style=\"text-align: right;\">\n",
       "      <th></th>\n",
       "      <th>53</th>\n",
       "    </tr>\n",
       "  </thead>\n",
       "  <tbody>\n",
       "    <tr>\n",
       "      <th>Sale</th>\n",
       "      <td>45.00</td>\n",
       "    </tr>\n",
       "    <tr>\n",
       "      <th>weight</th>\n",
       "      <td>168.00</td>\n",
       "    </tr>\n",
       "    <tr>\n",
       "      <th>resoloution</th>\n",
       "      <td>5.15</td>\n",
       "    </tr>\n",
       "    <tr>\n",
       "      <th>ppi</th>\n",
       "      <td>428.00</td>\n",
       "    </tr>\n",
       "    <tr>\n",
       "      <th>cpu core</th>\n",
       "      <td>8.00</td>\n",
       "    </tr>\n",
       "    <tr>\n",
       "      <th>cpu freq</th>\n",
       "      <td>2.45</td>\n",
       "    </tr>\n",
       "    <tr>\n",
       "      <th>internal mem</th>\n",
       "      <td>64.00</td>\n",
       "    </tr>\n",
       "    <tr>\n",
       "      <th>ram</th>\n",
       "      <td>6.00</td>\n",
       "    </tr>\n",
       "    <tr>\n",
       "      <th>RearCam</th>\n",
       "      <td>12.00</td>\n",
       "    </tr>\n",
       "    <tr>\n",
       "      <th>Front_Cam</th>\n",
       "      <td>8.00</td>\n",
       "    </tr>\n",
       "    <tr>\n",
       "      <th>battery</th>\n",
       "      <td>3350.00</td>\n",
       "    </tr>\n",
       "    <tr>\n",
       "      <th>thickness</th>\n",
       "      <td>7.50</td>\n",
       "    </tr>\n",
       "  </tbody>\n",
       "</table>\n",
       "</div>"
      ],
      "text/plain": [
       "                   53\n",
       "Sale            45.00\n",
       "weight         168.00\n",
       "resoloution      5.15\n",
       "ppi            428.00\n",
       "cpu core         8.00\n",
       "cpu freq         2.45\n",
       "internal mem    64.00\n",
       "ram              6.00\n",
       "RearCam         12.00\n",
       "Front_Cam        8.00\n",
       "battery       3350.00\n",
       "thickness        7.50"
      ]
     },
     "execution_count": 50,
     "metadata": {},
     "output_type": "execute_result"
    }
   ],
   "source": [
    "x_test.head(1).T"
   ]
  },
  {
   "cell_type": "code",
   "execution_count": 51,
   "id": "adfd0192",
   "metadata": {},
   "outputs": [],
   "source": [
    "\n",
    "Sale=45.00\n",
    "weight=168.00\n",
    "resoloution=5.15\n",
    "ppi=428.00\n",
    "cpu_core=8.00\n",
    "cpu_freq=2.45\n",
    "internal_mem=64.00\n",
    "ram=6.00\n",
    "RearCam=12.00\n",
    "Front_Cam=25.00\n",
    "battery=3350.00\n",
    "thickness=7.50"
   ]
  },
  {
   "cell_type": "code",
   "execution_count": 52,
   "id": "f2e7aa2b",
   "metadata": {},
   "outputs": [
    {
     "name": "stdout",
     "output_type": "stream",
     "text": [
      "pridicted mobile price :  3595.047\n"
     ]
    },
    {
     "name": "stderr",
     "output_type": "stream",
     "text": [
      "C:\\Users\\Lenovo\\anaconda3\\lib\\site-packages\\sklearn\\base.py:420: UserWarning: X does not have valid feature names, but LinearRegression was fitted with feature names\n",
      "  warnings.warn(\n"
     ]
    }
   ],
   "source": [
    "def get_mobile_price(Sale,weight,resoloution,ppi,cpu_core,cpu_freq,internal_mem,ram,RearCam,Front_Cam,battery,thickness):\n",
    "\n",
    "    test_array=np.array([Sale,weight,resoloution,ppi,cpu_core,cpu_freq,internal_mem,\n",
    "                         ram,RearCam,Front_Cam,battery,thickness,],ndmin=2)\n",
    "    pridected_price=np.around(linear_reg.predict(test_array)[0],3)\n",
    "    return pridected_price\n",
    "pridected_price=get_mobile_price(Sale,weight,resoloution,ppi,cpu_core,cpu_freq,\n",
    "                                 internal_mem,ram,RearCam,Front_Cam,battery,thickness)\n",
    "print(\"pridicted mobile price : \",pridected_price)\n"
   ]
  },
  {
   "cell_type": "code",
   "execution_count": null,
   "id": "b85f13f2",
   "metadata": {},
   "outputs": [],
   "source": []
  },
  {
   "cell_type": "code",
   "execution_count": 53,
   "id": "e05bfff5",
   "metadata": {},
   "outputs": [],
   "source": [
    "with open(\"mobileinfo_linear_regession_model.pkl\",'wb') as f:\n",
    "    pickle.dump(linear_reg,f)"
   ]
  },
  {
   "cell_type": "code",
   "execution_count": null,
   "id": "3725b5bd",
   "metadata": {},
   "outputs": [],
   "source": []
  }
 ],
 "metadata": {
  "kernelspec": {
   "display_name": "Python 3 (ipykernel)",
   "language": "python",
   "name": "python3"
  },
  "language_info": {
   "codemirror_mode": {
    "name": "ipython",
    "version": 3
   },
   "file_extension": ".py",
   "mimetype": "text/x-python",
   "name": "python",
   "nbconvert_exporter": "python",
   "pygments_lexer": "ipython3",
   "version": "3.10.9"
  }
 },
 "nbformat": 4,
 "nbformat_minor": 5
}
